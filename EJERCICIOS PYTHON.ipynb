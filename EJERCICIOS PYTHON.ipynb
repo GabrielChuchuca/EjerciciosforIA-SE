{
 "cells": [
  {
   "cell_type": "code",
   "execution_count": 15,
   "metadata": {},
   "outputs": [
    {
     "name": "stdout",
     "output_type": "stream",
     "text": [
      "La intensidad es: 0.43\n"
     ]
    }
   ],
   "source": [
    "#Ejercicio 1\n",
    "# Pasar a escala de grises el color codificado en los elementos de la lista `pixel`\n",
    "\n",
    "pixel= [0.6,0.3,0.4] # intensidades de cada canal. \n",
    "#El elemento 0 es el R, el 1 el G y el 2 el B\n",
    "\n",
    "# la intensidad en escala de grises es el promedio de la intensidad de cada canal R, G y B\n",
    "intensidad=0 # IMPLEMENTAR\n",
    "intensidad=(sum(pixel)/3)\n",
    "print(\"La intensidad es: {0:.2f}\".format(intensidad))\n"
   ]
  },
  {
   "cell_type": "code",
   "execution_count": null,
   "metadata": {},
   "outputs": [],
   "source": []
  },
  {
   "cell_type": "code",
   "execution_count": null,
   "metadata": {},
   "outputs": [],
   "source": []
  }
 ],
 "metadata": {
  "kernelspec": {
   "display_name": "Python 3",
   "language": "python",
   "name": "python3"
  },
  "language_info": {
   "codemirror_mode": {
    "name": "ipython",
    "version": 3
   },
   "file_extension": ".py",
   "mimetype": "text/x-python",
   "name": "python",
   "nbconvert_exporter": "python",
   "pygments_lexer": "ipython3",
   "version": "3.8.3"
  }
 },
 "nbformat": 4,
 "nbformat_minor": 4
}
