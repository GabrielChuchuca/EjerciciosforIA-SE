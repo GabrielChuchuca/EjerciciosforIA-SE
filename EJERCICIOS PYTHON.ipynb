{
 "cells": [
  {
   "cell_type": "code",
   "execution_count": null,
   "metadata": {},
   "outputs": [],
   "source": [
    "#Ejercicio 1\n",
    "# Pasar a escala de grises el color codificado en los elementos de la lista `pixel`\n",
    "\n",
    "pixel= [0.6,0.3,0.4] # intensidades de cada canal. \n",
    "#El elemento 0 es el R, el 1 el G y el 2 el B\n",
    "\n",
    "# la intensidad en escala de grises es el promedio de la intensidad de cada canal R, G y B\n",
    "intensidad=0 # IMPLEMENTAR\n",
    "intensidad=(sum(pixel)/3)\n",
    "print(\"La intensidad es: {0:.2f}\".format(intensidad))"
   ]
  },
  {
   "cell_type": "code",
   "execution_count": null,
   "metadata": {},
   "outputs": [],
   "source": [
    "#Ejercicio 2\n",
    "# Pasar a blanco y negro el valor de intensidad codificado en la variable intensidad\n",
    "\n",
    "\n",
    "# podemos considerar que un pixel se convierte en blanco si su intensidad en escala de grises es mayor a 0.5\n",
    "# y negro de lo contrario\n",
    "bw = 0 # IMPLEMENTAR\n",
    "if(intensidad > 0.5):\n",
    "    bw=1\n",
    "else:\n",
    "    bw\n",
    "print(\"En blanco y negro el pixel sería: (0 -> negro, 1 -> blanco)\")\n",
    "print(bw)"
   ]
  },
  {
   "cell_type": "code",
   "execution_count": null,
   "metadata": {},
   "outputs": [],
   "source": [
    "#Ejercicio 3: Escribir un for para buscar el máximo de la lista e imprimirlo\n",
    "lista=[44,11,15,29,53,12,30]\n",
    "maximo=0\n",
    "# IMPLEMENTAR\n",
    "for i in lista:\n",
    "    if (i == max(lista)):\n",
    "        maximo=i\n",
    "    else:\n",
    "        None\n",
    "\n",
    "# debe imprimir 53\n",
    "print(\"- El maximo es:\")\n",
    "print(maximo)"
   ]
  },
  {
   "cell_type": "code",
   "execution_count": null,
   "metadata": {},
   "outputs": [],
   "source": [
    "#Ejercicio 4: Escribir un for para buscar el minimo elemento de la lista e imprimir su _posición_\n",
    "lista=[44,11,15,29,53,12,30]\n",
    "posicion=0\n",
    "# IMPLEMENTAR\n",
    "for i, j in enumerate(lista):\n",
    "    if(j == min(lista)):\n",
    "        posicion=i\n",
    "    else:\n",
    "        None\n",
    "#debe imprimir 1\n",
    "print(\"- La posición del minimo es:\")\n",
    "print(posicion)"
   ]
  },
  {
   "cell_type": "code",
   "execution_count": null,
   "metadata": {},
   "outputs": [],
   "source": [
    "# Ejercicio 5 : Ordenar la lista de forma asendente \n",
    "#IMPLEMENTAR\n",
    "numeros = [10, 5, 15, 8, 100, 7, 40, 35, 65, 79]\n",
    "numeros.sort()\n",
    "print(numeros)"
   ]
  },
  {
   "cell_type": "code",
   "execution_count": null,
   "metadata": {},
   "outputs": [],
   "source": [
    "# Ejercicio 6(7)\n",
    "\n",
    "# Crear una funcion en donde me permita enviar como parametro el numero de elementos y \n",
    "# devolver un listado de la serie fibonassi con el numero de elementos ingresado.\n",
    "\n",
    "#IMPLEMENTAR\n",
    "def fibonacci(numero):\n",
    "    inicial_1 = 0\n",
    "    inicial_2 = 1\n",
    "    lista_f =[]\n",
    "    if(numero == 1):\n",
    "        lista_f.append(inicial_1)\n",
    "        return lista_f\n",
    "    elif(numero == 2):\n",
    "        lista_f.append(inicial_1)\n",
    "        lista_f.append(inicial_2)\n",
    "        return lista_f\n",
    "    elif(numero > 2):\n",
    "        lista_f.append(inicial_1)\n",
    "        lista_f.append(inicial_2)\n",
    "        while numero > len(lista_f):\n",
    "            f = lista_f[-1]+lista_f[-2]\n",
    "            lista_f.append(f)\n",
    "        return lista_f\n",
    "    else:\n",
    "        print(\"Ingrese un numero mayor a 0\") \n",
    "     \n",
    "#invocando la funcion\n",
    "fibonacci(10)"
   ]
  },
  {
   "cell_type": "code",
   "execution_count": null,
   "metadata": {},
   "outputs": [],
   "source": [
    "#Ejercicio 7(8)\n",
    "# Escribir una función que reciba una lista y un valor, \n",
    "#y devuelva la cantidad de veces que aparece ese valor en la lista\n",
    "\n",
    "def ocurrencias(lista, valor):\n",
    "    # IMPLEMENTAR\n",
    "    cantidad = 0\n",
    "    for i in lista:\n",
    "        if(valor == i):\n",
    "            cantidad += 1\n",
    "    return cantidad\n",
    "\n",
    "\n",
    "l=[1,4,2,3,5,1,4,2,3,6,1,7,1,3,5,1,1,5,3,2]\n",
    "v=2\n",
    "\n",
    "print(\"La cantidad de ocurrencias es:\")\n",
    "print(ocurrencias(l,v))\n",
    "#debe imprimir 3, la cantidad de veces que aparece el 2 en la lista"
   ]
  },
  {
   "cell_type": "code",
   "execution_count": null,
   "metadata": {},
   "outputs": [],
   "source": [
    "# Ejercicio 8(9) : Investigar las funciones que se pueden utilizar con listas, diccionarios y tuplas.\n",
    "lista_prueba = [\"Gabriel\", 1.65, 22, \"Feria Libre\", True, \"PUBG MOBILE\", \"AMY\", False, 100, 3.14]\n",
    "print(lista_prueba)\n",
    "\n",
    "#funcion append(para añadir un elemento)\n",
    "a = \"GAZIR\"\n",
    "lista_prueba.append(a)\n",
    "print(lista_prueba)\n",
    "###########\n",
    "\n",
    "#funcion extend(nos permite agregar elementos dentro de una lista pero a diferencia de append al momento de agregar una lista, cada elemento de esta lista se agrega como un elemento más dentro de la otra lista)\n",
    "sublista_ele = [\"PYTHON\", \"IA\"]\n",
    "lista_prueba.extend(sublista_ele)\n",
    "print(lista_prueba)"
   ]
  },
  {
   "cell_type": "code",
   "execution_count": null,
   "metadata": {},
   "outputs": [],
   "source": [
    "# Ejercicio 9\n",
    "\n",
    "# Generar un CRUD (Crear, Leer, Actualizar y Eliminar) de una agenda de telefono.\n",
    "\n",
    "# IMPLEMENTAR"
   ]
  },
  {
   "cell_type": "code",
   "execution_count": 2,
   "metadata": {},
   "outputs": [
    {
     "name": "stdout",
     "output_type": "stream",
     "text": [
      "Ingrese su numero de cedula: 0105662068\n"
     ]
    },
    {
     "data": {
      "text/plain": [
       "True"
      ]
     },
     "execution_count": 2,
     "metadata": {},
     "output_type": "execute_result"
    }
   ],
   "source": [
    "#Ejercicio 10\n",
    "\n",
    "# Crear un metodo de validacion de cedula Ecuatoriana, en caso de que la cedula no sea validad lanzar \n",
    "# una excepcion, ademas de controlar que solo pueda ingresar digitos numericos por teclado.\n",
    "\n",
    "\n",
    "#IMPLEMENTAR\n",
    "def validacion_ecuatoriana(n_ced):\n",
    "    if(n_ced != \"\" and len(n_ced) == 10):\n",
    "        ulti_ced = n_ced[9:]\n",
    "        n_ced = n_ced[:9]\n",
    "        lista_ced = []\n",
    "        lista_pro = [2, 1, 2, 1, 2, 1, 2, 1, 2]\n",
    "        for i, j in zip(n_ced, lista_pro):\n",
    "            #print(int(i), j)\n",
    "            mul = int(i) * j\n",
    "            #print(\"****\", mul)\n",
    "            if(mul > 9):\n",
    "                mul = mul - 9\n",
    "                lista_ced.append(mul)\n",
    "            else:\n",
    "                lista_ced.append(mul)\n",
    "        #print(lista_ced)\n",
    "        res = sum(lista_ced)\n",
    "        #print(res)\n",
    "        mod = res % 10\n",
    "        #print(mod)\n",
    "        dig_ve = 10 - mod\n",
    "        if (dig_ve == int(ulti_ced)) or (mod == 0):\n",
    "            return True\n",
    "        else:\n",
    "            return False\n",
    "        #else:\n",
    "            #return False\n",
    "    else:\n",
    "        return \"INGRESE UNA CEDULA DE 10 DIGITOS\"\n",
    "    \n",
    "\n",
    "num_cedula = input(\"Ingrese su numero de cedula: \") \n",
    "        \n",
    "validacion_ecuatoriana(num_cedula)"
   ]
  },
  {
   "cell_type": "code",
   "execution_count": null,
   "metadata": {},
   "outputs": [],
   "source": [
    "# Ejercicio 11\n",
    "# Crear una aplicacion que me permita guardar en archivo y recuperar la informacion de nombres de animales.\n",
    "\n",
    "#IMPLEMENTAR"
   ]
  },
  {
   "cell_type": "markdown",
   "metadata": {},
   "source": [
    "# Practica Integradora\n",
    "Realizar una aplicacion para agendar contactos, en donde una Persona (nombre, apellido, cedula, fecha de nacimiento, direccion) puede tener varios Telefonos (numero, tipo de telefono (enum), codigo de area, operadora)., adicionalmente esta informacion se debe almacenar en un archivo para recuperarla. Los datos deben ser ingresados mediante consola, para ello se debe generar un menu interactivo que permita gestionar toda la informacion de la agenda (CRUD -> Personas y Telefonos), ademas de guardar y leer los datos del archivo. Incluir la validacion de la cedula y de datos de ingreso con excepciones."
   ]
  },
  {
   "cell_type": "code",
   "execution_count": null,
   "metadata": {},
   "outputs": [],
   "source": []
  }
 ],
 "metadata": {
  "kernelspec": {
   "display_name": "Python 3",
   "language": "python",
   "name": "python3"
  },
  "language_info": {
   "codemirror_mode": {
    "name": "ipython",
    "version": 3
   },
   "file_extension": ".py",
   "mimetype": "text/x-python",
   "name": "python",
   "nbconvert_exporter": "python",
   "pygments_lexer": "ipython3",
   "version": "3.8.3"
  }
 },
 "nbformat": 4,
 "nbformat_minor": 4
}
