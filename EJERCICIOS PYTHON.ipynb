{
 "cells": [
  {
   "cell_type": "code",
   "execution_count": 16,
   "metadata": {},
   "outputs": [
    {
     "name": "stdout",
     "output_type": "stream",
     "text": [
      "La intensidad es: 0.43\n"
     ]
    }
   ],
   "source": [
    "#Ejercicio 1\n",
    "# Pasar a escala de grises el color codificado en los elementos de la lista `pixel`\n",
    "\n",
    "pixel= [0.6,0.3,0.4] # intensidades de cada canal. \n",
    "#El elemento 0 es el R, el 1 el G y el 2 el B\n",
    "\n",
    "# la intensidad en escala de grises es el promedio de la intensidad de cada canal R, G y B\n",
    "intensidad=0 # IMPLEMENTAR\n",
    "intensidad=(sum(pixel)/3)\n",
    "print(\"La intensidad es: {0:.2f}\".format(intensidad))"
   ]
  },
  {
   "cell_type": "code",
   "execution_count": 20,
   "metadata": {},
   "outputs": [
    {
     "name": "stdout",
     "output_type": "stream",
     "text": [
      "En blanco y negro el pixel sería: (0 -> negro, 1 -> blanco)\n",
      "0\n"
     ]
    }
   ],
   "source": [
    "#Ejercicio 2\n",
    "# Pasar a blanco y negro el valor de intensidad codificado en la variable intensidad\n",
    "\n",
    "\n",
    "# podemos considerar que un pixel se convierte en blanco si su intensidad en escala de grises es mayor a 0.5\n",
    "# y negro de lo contrario\n",
    "bw = 0 # IMPLEMENTAR\n",
    "if(intensidad > 0.5):\n",
    "    bw=1\n",
    "else:\n",
    "    bw\n",
    "print(\"En blanco y negro el pixel sería: (0 -> negro, 1 -> blanco)\")\n",
    "print(bw)"
   ]
  },
  {
   "cell_type": "code",
   "execution_count": 25,
   "metadata": {},
   "outputs": [
    {
     "name": "stdout",
     "output_type": "stream",
     "text": [
      "- El maximo es:\n",
      "53\n"
     ]
    }
   ],
   "source": [
    "#Ejercicio 3: Escribir un for para buscar el máximo de la lista e imprimirlo\n",
    "lista=[44,11,15,29,53,12,30]\n",
    "maximo=0\n",
    "# IMPLEMENTAR\n",
    "for i in lista:\n",
    "    if (i == max(lista)):\n",
    "        maximo=i\n",
    "    else:\n",
    "        None\n",
    "\n",
    "# debe imprimir 53\n",
    "print(\"- El maximo es:\")\n",
    "print(maximo)"
   ]
  },
  {
   "cell_type": "code",
   "execution_count": 35,
   "metadata": {},
   "outputs": [
    {
     "name": "stdout",
     "output_type": "stream",
     "text": [
      "- La posición del minimo es:\n",
      "1\n"
     ]
    }
   ],
   "source": [
    "#Ejercicio 4: Escribir un for para buscar el minimo elemento de la lista e imprimir su _posición_\n",
    "lista=[44,11,15,29,53,12,30]\n",
    "posicion=0\n",
    "# IMPLEMENTAR\n",
    "for i, j in enumerate(lista):\n",
    "    if(j == min(lista)):\n",
    "        posicion=i\n",
    "    else:\n",
    "        None\n",
    "#debe imprimir 1\n",
    "print(\"- La posición del minimo es:\")\n",
    "print(posicion)"
   ]
  },
  {
   "cell_type": "code",
   "execution_count": 38,
   "metadata": {},
   "outputs": [
    {
     "name": "stdout",
     "output_type": "stream",
     "text": [
      "[5, 7, 8, 10, 15, 35, 40, 65, 79, 100]\n"
     ]
    }
   ],
   "source": [
    "# Ejercicio 5 : Ordenar la lista de forma asendente \n",
    "#IMPLEMENTAR\n",
    "numeros = [10, 5, 15, 8, 100, 7, 40, 35, 65, 79]\n",
    "numeros.sort()\n",
    "print(numeros)"
   ]
  },
  {
   "cell_type": "code",
   "execution_count": 10,
   "metadata": {},
   "outputs": [
    {
     "data": {
      "text/plain": [
       "[0, 1, 1, 2, 3, 5, 8, 13, 21, 34]"
      ]
     },
     "execution_count": 10,
     "metadata": {},
     "output_type": "execute_result"
    }
   ],
   "source": [
    "# Ejercicio 6\n",
    "\n",
    "# Crear una funcion en donde me permita enviar como parametro el numero de elementos y \n",
    "# devolver un listado de la serie fibonassi con el numero de elementos ingresado.\n",
    "\n",
    "#IMPLEMENTAR\n",
    "def fibonacci(numero):\n",
    "    inicial_1 = 0\n",
    "    inicial_2 = 1\n",
    "    lista_f =[]\n",
    "    if(numero > 0):  \n",
    "        lista_f.append(inicial_1)\n",
    "        lista_f.append(inicial_2)\n",
    "        while numero > len(lista_f):\n",
    "            f = lista_f[-1]+lista_f[-2]\n",
    "            lista_f.append(f)\n",
    "        return lista_f\n",
    "    else:\n",
    "        print(\"Ingrese un numero mayor a 0\") \n",
    "     \n",
    "#invocando la funcion\n",
    "fibonacci(10)"
   ]
  },
  {
   "cell_type": "code",
   "execution_count": null,
   "metadata": {},
   "outputs": [],
   "source": []
  }
 ],
 "metadata": {
  "kernelspec": {
   "display_name": "Python 3",
   "language": "python",
   "name": "python3"
  },
  "language_info": {
   "codemirror_mode": {
    "name": "ipython",
    "version": 3
   },
   "file_extension": ".py",
   "mimetype": "text/x-python",
   "name": "python",
   "nbconvert_exporter": "python",
   "pygments_lexer": "ipython3",
   "version": "3.8.3"
  }
 },
 "nbformat": 4,
 "nbformat_minor": 4
}
