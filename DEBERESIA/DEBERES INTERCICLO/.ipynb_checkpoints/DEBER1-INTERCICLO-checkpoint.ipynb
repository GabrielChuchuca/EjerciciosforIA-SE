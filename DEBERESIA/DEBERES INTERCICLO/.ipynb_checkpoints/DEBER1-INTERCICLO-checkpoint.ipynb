{
 "cells": [
  {
   "cell_type": "markdown",
   "metadata": {},
   "source": [
    "# Ejemplos de IA en Ecuador"
   ]
  },
  {
   "cell_type": "markdown",
   "metadata": {},
   "source": [
    "- Lucía, el robot que revisa las perchas en Almacenes Tía\n",
    "\n",
    "Lucía es blanca y tiene ojos azules. Es totalmente autómata, recorre los pasillos y revisa los artículos que están en las perchas. Es un robot de inteligencia artificial programado para la revisión de las estanterías en el local 200 de Almacenes Tía.\n",
    "\n",
    "El robot está desarrollado con algoritmos de inteligencia artificial y algoritmos de reconocimiento de imágenes. Es totalmente autómata, Lucía recorre los pasillos del almacén y una vez terminada la tarea se retira a la estación para cargar sus baterías y reprogramarse.\n",
    "\n",
    "Lucía ayudará a revisar la ubicación de los artículos, realizará comparaciones de lo que ve a través de la cámara integrada en su sistema operativo y emitirá alertas cuando detecte errores. Su recorrido será fuera del horario de atención al público para un rendimiento óptimo."
   ]
  },
  {
   "cell_type": "markdown",
   "metadata": {},
   "source": [
    "REFERENCIA: https://www.revistalideres.ec/lideres/lucia-robot-revisa-perchas-tia.html "
   ]
  },
  {
   "cell_type": "code",
   "execution_count": null,
   "metadata": {},
   "outputs": [],
   "source": []
  }
 ],
 "metadata": {
  "kernelspec": {
   "display_name": "Python 3",
   "language": "python",
   "name": "python3"
  },
  "language_info": {
   "codemirror_mode": {
    "name": "ipython",
    "version": 3
   },
   "file_extension": ".py",
   "mimetype": "text/x-python",
   "name": "python",
   "nbconvert_exporter": "python",
   "pygments_lexer": "ipython3",
   "version": "3.8.3"
  }
 },
 "nbformat": 4,
 "nbformat_minor": 4
}
