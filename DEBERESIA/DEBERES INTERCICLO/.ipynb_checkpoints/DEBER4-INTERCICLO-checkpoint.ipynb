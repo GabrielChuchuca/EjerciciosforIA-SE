{
 "cells": [
  {
   "cell_type": "markdown",
   "metadata": {},
   "source": [
    "# ¿Caso de éxito de neo4j o base de datos orientadas a grafos con inteligencia artificial? "
   ]
  },
  {
   "cell_type": "markdown",
   "metadata": {},
   "source": [
    "- Grafos en KDD 2019\n",
    "\n",
    "En la edición de 2019 de la conferencia en Knowledge Discovery and Data mining, KDD 2019, Alibaba presentó su plataforma AliGraph -en el ámbito financiero, vimos este otro ejemplo de Capital One-. También vimos artículos que proponían grafos para modelar conjuntamente conceptos e instancias en una base de conocimientos, y muchos algoritmos de Deep Learning para grafos, incluyendo “OAG: Toward Linking Large-scale Heterogeneous Entity Graphs“, un algoritmo de Deep Learning para la vinculación de registros en grafos de entidades grandes, con el repositorio GitHub.\n",
    "\n",
    "El “MIT-IBM Lab” publicó The Elliptic Dataset, un gran conjunto de datos de transacciones financieras (bitcoin), y presentó un documento sobre la lucha contra el blanqueo de dinero en el taller sobre la Detección de Anomalías en las Finanzas. \n",
    "\n",
    "- Spark+AI Summit Europe 2019\n",
    "\n",
    "En el año de 2019 se presentaron algunos casos de uso en analítica de grafos en la conferencia Spark + AI Summit Europe 2019, celebrada en Amsterdam. Tiger Graphs mostró cómo trabajaron con China Mobile para detectar estafas telefónicas utilizando un grafo de llamadas de 600 millones de usuarios. Así, crean características que se usan en un modelo de machine learning que clasifica una llamada telefónica entre estafa o no estafa en tiempo real. \n",
    "\n",
    "Otro ejemplo lo vemos en AstraZeneca. La compañía de biofarmacia explicó cómo utilizaron un grafo de conocimiento en el proceso de descubrimiento de los fármacos, donde la analítica de grafos tiene un gran potencial para reducir el alto coste y tiempo necesarios para llevarlo a cabo.\n",
    "\n",
    "En la misma conferencia, tuvimos la oportunidad de conocer algunos cambios planeados en Spark 3. Un nuevo módulo basado en Spark SQL Dataframes se incorporará para representar grafos utilizando el modelo de datos Property Graph. Este modelo de datos permite representar grafos con diferentes tipos de nodos y bordes y definir propiedades sobre ellos, dando mucha flexibilidad a la hora de representarlos. Además, está previsto añadir el lenguaje de consulta Cypher, que permitirá una consulta de datos expresiva y eficiente en los grafos de propiedades."
   ]
  }
 ],
 "metadata": {
  "kernelspec": {
   "display_name": "Python 3",
   "language": "python",
   "name": "python3"
  },
  "language_info": {
   "codemirror_mode": {
    "name": "ipython",
    "version": 3
   },
   "file_extension": ".py",
   "mimetype": "text/x-python",
   "name": "python",
   "nbconvert_exporter": "python",
   "pygments_lexer": "ipython3",
   "version": "3.8.3"
  }
 },
 "nbformat": 4,
 "nbformat_minor": 4
}
