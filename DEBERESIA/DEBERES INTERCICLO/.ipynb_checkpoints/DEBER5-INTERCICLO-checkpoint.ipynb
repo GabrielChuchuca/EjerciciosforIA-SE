{
 "cells": [
  {
   "cell_type": "markdown",
   "metadata": {},
   "source": [
    "# Como poder migrar desde una base de datos transaccional a BDOG (DE POSTGRES A neo4J)"
   ]
  },
  {
   "cell_type": "markdown",
   "metadata": {},
   "source": [
    "Al derivar un modelo de gráfico a partir de un modelo relacional, debemos tener en cuenta un par de pautas generales.\n",
    "\n",
    "- Una fila es un nodo\n",
    "\n",
    "- Un nombre de tabla es un nombre de etiqueta\n",
    "\n",
    "- Una combinación o clave externa es una relación"
   ]
  },
  {
   "cell_type": "markdown",
   "metadata": {},
   "source": [
    "¿En qué se diferencia el modelo gráfico del modelo relacional?\n",
    "\n",
    "- No hay nulos. Las entradas de valor no existentes (propiedades) simplemente no están presentes.\n",
    "\n",
    "- Describe las relaciones con más detalle.\n",
    "\n",
    "- Cualquiera de los modelos se puede normalizar más."
   ]
  },
  {
   "cell_type": "markdown",
   "metadata": {},
   "source": [
    "- Exportación de tablas relacionales a CSV\n",
    "\n",
    "Una de las mas factibles es exportando nuestros datos de la base de datos relacional a archivos CSV.\n",
    "\n",
    "Un formato común que muchos sistemas pueden manejar en un archivo plano de valores separados por comas (CSV), así que veamos cómo exportar tablas relacionales desde una base de datos PostgreSQL a archivos CSV para que podamos crear nuestro gráfico.\n",
    "\n",
    "El comando 'copiar' de PostgreSQL nos permite ejecutar una consulta SQL y escribir el resultado en un archivo CSV. Podemos ensamblar un breve script .sql de estos comandos de copia, como se muestra a continuación."
   ]
  },
  {
   "cell_type": "raw",
   "metadata": {},
   "source": [
    "COPY (SELECT * FROM customers) TO '/tmp/customers.csv' WITH CSV header;\n",
    "COPY (SELECT * FROM suppliers) TO '/tmp/suppliers.csv' WITH CSV header;\n",
    "COPY (SELECT * FROM products)  TO '/tmp/products.csv' WITH CSV header;\n",
    "COPY (SELECT * FROM employees) TO '/tmp/employees.csv' WITH CSV header;\n",
    "COPY (SELECT * FROM categories) TO '/tmp/categories.csv' WITH CSV header;\n",
    "\n",
    "COPY (SELECT * FROM orders\n",
    "      LEFT OUTER JOIN order_details ON order_details.OrderID = orders.OrderID) TO '/tmp/orders.csv' WITH CSV header;"
   ]
  },
  {
   "cell_type": "markdown",
   "metadata": {},
   "source": [
    "- Importando los datos usando Cypher\n",
    "\n",
    "Después de haber exportado nuestros datos desde PostgreSQL, usaremos el comando LOAD CSV de Cypher para transformar el contenido del archivo CSV en una estructura de gráfico. Primero, probablemente querremos colocar nuestros archivos CSV en un directorio de fácil acceso. Con Neo4j Desktop, podemos colocarlos en el directorio de importación de la base de datos local (instrucciones detalladas que se encuentran en nuestra guía de importación de escritorio ). De esta manera, podemos usar el file:///prefijo en nuestras declaraciones Cypher para ubicar los archivos. También podemos colocar los archivos en otro directorio local o remoto (admite HTTPS, HTTP y FTP) y especificar la ruta completa en nuestras declaraciones Cypher. Dado que estamos usando Neo4j Desktop en este ejemplo, usaremos la carpeta de importación para la base de datos y la ruta de nuestros archivos CSV puede comenzar con el file:///prefijo.\n",
    "\n",
    "Ahora que tenemos nuestros archivos a los que podemos acceder fácilmente, podemos usar el LOAD CSVcomando de Cypher para leer cada archivo y agregar declaraciones Cypher después para tomar los datos de fila / columna y transformarlos en el gráfico.\n",
    "\n",
    "El script Cypher completo está disponible en Github para que lo copie y ejecute, pero repasaremos cada sección a continuación para explicar qué hace cada pieza del script."
   ]
  },
  {
   "cell_type": "raw",
   "metadata": {},
   "source": [
    "// Create orders\n",
    "LOAD CSV WITH HEADERS FROM 'file:///orders.csv' AS row\n",
    "MERGE (order:Order {orderID: row.OrderID})\n",
    "  ON CREATE SET order.shipName = row.ShipName;\n",
    "\n",
    "// Create products\n",
    "LOAD CSV WITH HEADERS FROM 'file:///products.csv' AS row\n",
    "MERGE (product:Product {productID: row.ProductID})\n",
    "  ON CREATE SET product.productName = row.ProductName, product.unitPrice = toFloat(row.UnitPrice);\n",
    "\n",
    "// Create suppliers\n",
    "LOAD CSV WITH HEADERS FROM 'file:///suppliers.csv' AS row\n",
    "MERGE (supplier:Supplier {supplierID: row.SupplierID})\n",
    "  ON CREATE SET supplier.companyName = row.CompanyName;\n",
    "\n",
    "// Create employees\n",
    "LOAD CSV WITH HEADERS FROM 'file:///employees.csv' AS row\n",
    "MERGE (e:Employee {employeeID:row.EmployeeID})\n",
    "  ON CREATE SET e.firstName = row.FirstName, e.lastName = row.LastName, e.title = row.Title;\n",
    "\n",
    "// Create categories\n",
    "LOAD CSV WITH HEADERS FROM 'file:///categories.csv' AS row\n",
    "MERGE (c:Category {categoryID: row.CategoryID})\n",
    "  ON CREATE SET c.categoryName = row.CategoryName, c.description = row.Description;"
   ]
  },
  {
   "cell_type": "markdown",
   "metadata": {},
   "source": [
    "Es posible que observe que no hemos importado todas las columnas de campo en nuestro archivo CSV. Con nuestras declaraciones, podemos elegir qué propiedades se necesitan en un nodo, cuáles pueden omitirse y cuáles pueden necesitar ser importadas a otro tipo de nodo o relación. También puede notar que usamos la MERGE palabra clave , en lugar de CREATE. Aunque estamos bastante seguros de que no hay duplicados en nuestros archivos CSV, podemos utilizarlos MERGEcomo una buena práctica para garantizar entidades únicas en nuestra base de datos."
   ]
  },
  {
   "cell_type": "markdown",
   "metadata": {},
   "source": [
    "Una vez creados los nodos, debemos crear las relaciones entre ellos. Importar las relaciones significará buscar los nodos que acabamos de crear y agregar una relación entre esas entidades existentes. Para asegurarnos de que la búsqueda de nodos esté optimizada, querremos crear índices para cualquier propiedad de nodo que queramos usar en las búsquedas (a menudo la identificación u otro valor único).\n",
    "\n",
    "También queremos crear una restricción (también crea un índice con ella) que no permitirá que se creen pedidos con el mismo ID, evitando duplicados. Finalmente, como los índices se crean después de que se insertan los nodos, su población ocurre de forma asincrónica, por lo que usamos schema await(un comando de shell) para bloquear hasta que se llenen."
   ]
  },
  {
   "cell_type": "raw",
   "metadata": {},
   "source": [
    "CREATE INDEX product_id FOR (p:Product) ON (p.productID);\n",
    "CREATE INDEX product_name FOR (p:Product) ON (p.productName);\n",
    "CREATE INDEX supplier_id FOR (s:Supplier) ON (s.supplierID);\n",
    "CREATE INDEX employee_id FOR (e:Employee) ON (e.employeeID);\n",
    "CREATE INDEX category_id FOR (c:Category) ON (c.categoryID);\n",
    "CREATE CONSTRAINT order_id ON (o:Order) ASSERT o.orderID IS UNIQUE;\n",
    "schema await"
   ]
  },
  {
   "cell_type": "markdown",
   "metadata": {},
   "source": [
    "Con los nodos e índices iniciales en su lugar, ahora podemos crear las relaciones de pedidos a productos y pedidos a empleados."
   ]
  },
  {
   "cell_type": "raw",
   "metadata": {},
   "source": [
    "// Create relationships between orders and products\n",
    "LOAD CSV WITH HEADERS FROM 'file:///orders.csv' AS row\n",
    "MATCH (order:Order {orderID: row.OrderID})\n",
    "MATCH (product:Product {productID: row.ProductID})\n",
    "MERGE (order)-[op:CONTAINS]->(product)\n",
    "  ON CREATE SET op.unitPrice = toFloat(row.UnitPrice), op.quantity = toFloat(row.Quantity);\n",
    "\n",
    "// Create relationships between orders and employees\n",
    "LOAD CSV WITH HEADERS FROM \"file:///orders.csv\" AS row\n",
    "MATCH (order:Order {orderID: row.OrderID})\n",
    "MATCH (employee:Employee {employeeID: row.EmployeeID})\n",
    "MERGE (employee)-[:SOLD]->(order);"
   ]
  },
  {
   "cell_type": "markdown",
   "metadata": {},
   "source": [
    "- Consultar el gráfico\n",
    "\n",
    "Podríamos comenzar con un par de consultas generales para verificar que nuestros datos coincidan con el modelo que diseñamos anteriormente en la guía. A continuación, se muestran algunos ejemplos de consultas:"
   ]
  },
  {
   "cell_type": "raw",
   "metadata": {},
   "source": [
    "//find a sample of employees who sold orders with their ordered products\n",
    "MATCH (e:Employee)-[rel:SOLD]->(o:Order)-[rel2:CONTAINS]->(p:Product)\n",
    "RETURN e, rel, o, rel2, p LIMIT 25;\n",
    "\n",
    "//find the supplier and category for a specific product\n",
    "MATCH (s:Supplier)-[r1:SUPPLIES]->(p:Product {productName: 'Chocolade'})-[r2:PART_OF]->(c:Category)\n",
    "RETURN s, r1, p, r2, c;"
   ]
  }
 ],
 "metadata": {
  "kernelspec": {
   "display_name": "Python 3",
   "language": "python",
   "name": "python3"
  },
  "language_info": {
   "codemirror_mode": {
    "name": "ipython",
    "version": 3
   },
   "file_extension": ".py",
   "mimetype": "text/x-python",
   "name": "python",
   "nbconvert_exporter": "python",
   "pygments_lexer": "ipython3",
   "version": "3.8.3"
  }
 },
 "nbformat": 4,
 "nbformat_minor": 4
}
