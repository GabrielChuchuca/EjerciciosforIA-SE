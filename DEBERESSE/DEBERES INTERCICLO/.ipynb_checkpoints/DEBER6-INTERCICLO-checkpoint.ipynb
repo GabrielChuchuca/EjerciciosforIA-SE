{
 "cells": [
  {
   "cell_type": "code",
   "execution_count": 1,
   "metadata": {},
   "outputs": [],
   "source": [
    "#Implementar\n",
    "#Realizar un sistema que permita ingresar los datos mediante una interfaz grafica(Tkinter)\n",
    "#Graficar el Arbol Genealogico"
   ]
  },
  {
   "cell_type": "code",
   "execution_count": null,
   "metadata": {},
   "outputs": [],
   "source": []
  }
 ],
 "metadata": {
  "kernelspec": {
   "display_name": "Python 3",
   "language": "python",
   "name": "python3"
  },
  "language_info": {
   "codemirror_mode": {
    "name": "ipython",
    "version": 3
   },
   "file_extension": ".py",
   "mimetype": "text/x-python",
   "name": "python",
   "nbconvert_exporter": "python",
   "pygments_lexer": "ipython3",
   "version": "3.8.3"
  }
 },
 "nbformat": 4,
 "nbformat_minor": 4
}
