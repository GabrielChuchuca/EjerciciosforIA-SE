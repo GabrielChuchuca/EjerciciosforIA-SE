{
 "cells": [
  {
   "cell_type": "markdown",
   "metadata": {},
   "source": [
    "# RESPONDER LA PREGUNTA DE LA PAGINA 36 DE LA DIAPOSITIVA DEL CAPITULO 1"
   ]
  },
  {
   "cell_type": "markdown",
   "metadata": {},
   "source": [
    "Suponga que una agencia de viaje desea que diseñemos un S.E. para ayudar a los clientes a elegir un destino vacacional. Analizar lo siguiente:\n",
    "- ¿Es un problema adecuado para la implementación de un S.E.?. Justifique su respuesta.\n",
    "\n",
    "    Es un problema adecuado en el cual un S.E. puede ser de gran ayuda a recomendar cuales serian los mejores destinos vacacionales, tomando en cuenta la cultura de cada pais."
   ]
  },
  {
   "cell_type": "markdown",
   "metadata": {},
   "source": [
    "- Plantee una idea de cómo realizaría el proceso de adquisición de conocimiento\n",
    "\n",
    "    El proceso de adquisición de datos seria mediante todos los datos que se encuentran relacionado en internet sobre cada pais, tomando en cuenta sus culturas, tradiciones y muchas cosas que influyan a que el sistema recomiende la mejor opcion para que el cliente se influya por esa decision."
   ]
  },
  {
   "cell_type": "markdown",
   "metadata": {},
   "source": [
    "- ¿Qué estructura lógica cree que podría usar para implementar dicho sistema?\n",
    "\n",
    "    Primeramente extraer y recolectar informacion de los destinos vacacionales que crea necesario, y tambien que mas popularidad tengan con respecto a los extranjeros que reciben cada año.\n",
    "    Luego clasificar, ordenar bien esa informacion para luego procesarla con el sistema experto.\n",
    "    Bueno y al final es desarrollar el sistema experto implementadolo con toda la informacion extraida sobre los destions vacacionales.\n",
    "    "
   ]
  },
  {
   "cell_type": "markdown",
   "metadata": {},
   "source": [
    "En base a la problemática de COVID, es factible realizar un SE para diagnosticar su contagio\n",
    "- Pues si con tanto revuelo que hubo con esta pandemia, creo que hasta esta instancias ya habra muchos sistemas expertos para el covid y es bueno porque asi se tendra muchas opciones para detectar el Covid, logrando tener una certeza al saber si una persona esta contagiada de Covid o no."
   ]
  }
 ],
 "metadata": {
  "kernelspec": {
   "display_name": "Python 3",
   "language": "python",
   "name": "python3"
  },
  "language_info": {
   "codemirror_mode": {
    "name": "ipython",
    "version": 3
   },
   "file_extension": ".py",
   "mimetype": "text/x-python",
   "name": "python",
   "nbconvert_exporter": "python",
   "pygments_lexer": "ipython3",
   "version": "3.8.3"
  }
 },
 "nbformat": 4,
 "nbformat_minor": 4
}
